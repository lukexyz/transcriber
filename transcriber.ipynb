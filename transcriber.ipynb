{
 "cells": [
  {
   "cell_type": "code",
   "execution_count": 1,
   "metadata": {},
   "outputs": [],
   "source": [
    "import torch\n",
    "import whisper\n",
    "import glob"
   ]
  },
  {
   "cell_type": "code",
   "execution_count": 2,
   "metadata": {},
   "outputs": [
    {
     "name": "stdout",
     "output_type": "stream",
     "text": [
      "Pytorch 1.12.1\n",
      "    GPU NVIDIA GeForce RTX 2070 (8191 MB)\n"
     ]
    }
   ],
   "source": [
    "print(f'Pytorch {torch.__version__}')\n",
    "try:\n",
    "    free, total = torch.cuda.mem_get_info()\n",
    "    print(f'    GPU {torch.cuda.get_device_name(0)} ({total//1024**2} MB)')\n",
    "except: print(\"No GPU detected\")"
   ]
  },
  {
   "cell_type": "code",
   "execution_count": 8,
   "metadata": {},
   "outputs": [
    {
     "name": "stdout",
     "output_type": "stream",
     "text": [
      " Hi, I'm Lucy. I'm a research nurse from Zara Cannon Research Institute and I'm going to make a podcast.\n"
     ]
    }
   ],
   "source": [
    "\n",
    "model = whisper.load_model(\"tiny.en\")\n",
    "result = model.transcribe(\"audio//recordings//Recording.m4a\")\n",
    "print(result[\"text\"])"
   ]
  },
  {
   "cell_type": "code",
   "execution_count": 17,
   "metadata": {},
   "outputs": [
    {
     "name": "stdout",
     "output_type": "stream",
     "text": [
      "--------------------\n",
      " audio//recordings\\Recording1.m4a\n",
      " Hi, I'm Lucy. I'm a research nurse from Zara Cannon Research Institute and I'm going to make a podcast.\n",
      "--------------------\n",
      " audio//recordings\\Recording10.m4a\n",
      " Hello, this is Lequids with Fresh Air.\n",
      "--------------------\n",
      " audio//recordings\\Recording11.m4a\n",
      " This is the sound of Luke Woods coming at your life from a Sunday night.\n",
      "--------------------\n",
      " audio//recordings\\Recording13.m4a\n",
      " Just a mic, just a mic, just a mic, just a mic, keep checking the mic.\n",
      "--------------------\n",
      " audio//recordings\\Recording3.m4a\n",
      " Uuuuuh! Uuuuuh! Uuuuuh! Uuuuuh!\n",
      "--------------------\n",
      " audio//recordings\\Recording4.m4a\n",
      " Okay, so let's see why we decided to make this podcast. I'm making it because I think it's going to be really interesting and also quite funny.\n",
      "--------------------\n",
      " audio//recordings\\Recording5.m4a\n",
      " Oh yes, check the mic. Check it. Check it.\n",
      "--------------------\n",
      " audio//recordings\\Recording6.m4a\n",
      " und schenke der Maik\n",
      "--------------------\n",
      " audio//recordings\\Recording7.m4a\n",
      " It's just one, two, just one, two.\n",
      "--------------------\n",
      " audio//recordings\\Recording8.m4a\n",
      " Test one two, test one two.\n"
     ]
    }
   ],
   "source": [
    "model = whisper.load_model(\"tiny.en\")\n",
    "\n",
    "for file in glob.glob('audio//recordings//*.m4a'):\n",
    "    print(\"-\"*20+\"\\n\", file)\n",
    "    result = model.transcribe(file)\n",
    "    print(result[\"text\"])"
   ]
  },
  {
   "cell_type": "code",
   "execution_count": 18,
   "metadata": {},
   "outputs": [
    {
     "name": "stderr",
     "output_type": "stream",
     "text": [
      "100%|███████████████████████████████████████| 461M/461M [01:45<00:00, 4.60MiB/s]\n"
     ]
    },
    {
     "name": "stdout",
     "output_type": "stream",
     "text": [
      "--------------------\n",
      " audio//recordings\\Recording1.m4a\n",
      " Hi, I'm Lucy, I'm a research nurse from Sarah Cannon Research Institute and I'm going to make a podcast.\n",
      "--------------------\n",
      " audio//recordings\\Recording10.m4a\n",
      " Hello, this is Luke Woods with Fresh Air.\n",
      "--------------------\n",
      " audio//recordings\\Recording11.m4a\n",
      " This is the sound of Luke Woods coming at you live from a Sunday night.\n",
      "--------------------\n",
      " audio//recordings\\Recording13.m4a\n",
      " Check the mic, check the mic. What? Check the mic. Check the mic.\n",
      "--------------------\n",
      " audio//recordings\\Recording3.m4a\n",
      " Good Spacey hidden gift from my new sneakowym recompassion into the gear sh estate inside our entrance! Also Thanks for watching! mmm\n",
      "--------------------\n",
      " audio//recordings\\Recording4.m4a\n",
      " Okay so Lucy why have you decided to make this podcast? I'm making it because I think it's gonna be really interesting and also quite funny.\n",
      "--------------------\n",
      " audio//recordings\\Recording5.m4a\n",
      " Oh yes, check the mic. Check it. Actually, some people like to shove flags like this, it means you throw it Wat's\n",
      "--------------------\n",
      " audio//recordings\\Recording6.m4a\n",
      " Check the mic.\n",
      "--------------------\n",
      " audio//recordings\\Recording7.m4a\n",
      " It's just one two. And then I put some called Colorado.\n",
      "--------------------\n",
      " audio//recordings\\Recording8.m4a\n",
      " Test one two. This episode will be about Christmas, the May 12th year for Santa tahu pagar do\n"
     ]
    }
   ],
   "source": [
    "model = whisper.load_model(\"small\")\n",
    "\n",
    "for file in glob.glob('audio//recordings//*.m4a'):\n",
    "    print(\"-\"*20+\"\\n\", file)\n",
    "    result = model.transcribe(file)\n",
    "    print(result[\"text\"])"
   ]
  },
  {
   "cell_type": "code",
   "execution_count": 4,
   "metadata": {},
   "outputs": [
    {
     "name": "stdout",
     "output_type": "stream",
     "text": [
      "--------------------\n",
      " audio//recordings\\Recording1.m4a\n",
      "\t  Hi, I'm Lucy. I'm a research nurse from Sarah Cannon Research Institute and I'm going to make a podcast.\n",
      "--------------------\n",
      " audio//recordings\\Recording10.m4a\n",
      "\t  Hello, this is Luke Woods with Fresh Air.\n",
      "--------------------\n",
      " audio//recordings\\Recording11.m4a\n",
      "\t  This is the sound of Luke Woods coming at you live from a Sunday night.\n",
      "--------------------\n",
      " audio//recordings\\Recording13.m4a\n",
      "\t  Check the mic, check the mic. What? Check the mic. Check the mic.\n",
      "--------------------\n",
      " audio//recordings\\Recording3.m4a\n",
      "\t  Oooh! Ahhhh! Mmmmm!\n",
      "--------------------\n",
      " audio//recordings\\Recording4.m4a\n",
      "\t  Okay so Lucy why have you decided to make this podcast? I'm making it because I think it's gonna be really interesting and also quite funny.\n",
      "--------------------\n",
      " audio//recordings\\Recording5.m4a\n",
      "\t  Oh yes, check the mic. Check it. Almost perfect, almost perfect.\n",
      "--------------------\n",
      " audio//recordings\\Recording6.m4a\n",
      "\t  Check the mic.\n",
      "--------------------\n",
      " audio//recordings\\Recording7.m4a\n",
      "\t  Test 1-2, test 1-2.\n",
      "--------------------\n",
      " audio//recordings\\Recording8.m4a\n",
      "\t  Test 1-2. Test 1-2.\n"
     ]
    }
   ],
   "source": [
    "model = whisper.load_model(\"medium\")\n",
    "\n",
    "for file in glob.glob('audio//recordings//*.m4a'):\n",
    "    print(\"-\"*20+\"\\n\", file)\n",
    "    result = model.transcribe(file)\n",
    "    print(\"\\t\", result[\"text\"])"
   ]
  },
  {
   "cell_type": "code",
   "execution_count": null,
   "metadata": {},
   "outputs": [],
   "source": []
  }
 ],
 "metadata": {
  "kernelspec": {
   "display_name": "Python 3.9.13 ('transcriber')",
   "language": "python",
   "name": "python3"
  },
  "language_info": {
   "codemirror_mode": {
    "name": "ipython",
    "version": 3
   },
   "file_extension": ".py",
   "mimetype": "text/x-python",
   "name": "python",
   "nbconvert_exporter": "python",
   "pygments_lexer": "ipython3",
   "version": "3.9.13"
  },
  "orig_nbformat": 4,
  "vscode": {
   "interpreter": {
    "hash": "d7a723b4c1f55a0ac16efe160301c4fed5028f2bd6ee054a7acabc9bbcd30d2a"
   }
  }
 },
 "nbformat": 4,
 "nbformat_minor": 2
}
